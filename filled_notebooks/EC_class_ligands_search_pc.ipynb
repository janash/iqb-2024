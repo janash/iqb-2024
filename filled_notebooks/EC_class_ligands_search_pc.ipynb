{
 "cells": [
  {
   "cell_type": "markdown",
   "id": "366dc262-7b8c-4ffa-bf9b-d356a91a3694",
   "metadata": {},
   "source": [
    "<div style=\"text-align: center;\">\n",
    "        <img src=\"images/molssi_logo_header.png\" alt=\"MolSSI log\" style=\"height: 250px;\">\n",
    "</div>\n",
    "\n",
    "# Enzyme Commission Class with Ligands\n",
    "\n",
    "<div class=\"alert alert-block alert-info\"> \n",
    "<h2>Overview</h2>\n",
    "    \n",
    "<strong>Questions</strong>\n",
    "\n",
    "* How are enzymes classified?\n",
    "* How can I search the PDB for ligands that bind to a specific enzyme class?\n",
    "\n",
    "<strong>Learning Objectives</strong>\n",
    "\n",
    "* Understand the hierarchical classification of enzymes using the Enzyme Commission (EC) system.\n",
    "* Use the RCSB Search API to find ligands that bind to a specific enzyme class.\n",
    "</div>\n",
    "Enzymes are biological catalysts and most enzymes are proteins (at least that's our current thinking). \n",
    "To systematize the study of enzymes, IUPAC (the International Union of Pure and Applied Chemistry) has organized enzymes in a hierarchical class structure, with 7 top level classes and a total of 4 levels in the hierarchy. \n",
    "\n",
    "These classes are called the Enzyme Commission (EC) classes, and the hierarchy is called the EC system.\n",
    "Each enzyme is assigned an EC number based on the type of reaction it catalyzes.\n",
    "In this notebook, we will use the RCSB Search API to find ligands that bind to a specific enzyme class.\n",
    "\n",
    "## The 7 Enzyme Classes\n",
    "\n",
    "The [BRENDA Enzyme Database](https://www.brenda-enzymes.org/) contains detailed information about enzymes and includes a [browser tree for enzyme classes](https://www.brenda-enzymes.org/ecexplorer.php?browser=1). The 7 major classes of enzymes on the top level of the tree are\n",
    "1. Oxidoreductases\n",
    "1. Transferases\n",
    "1. Hydrolases\n",
    "1. Lyases\n",
    "1. Isomerases\n",
    "1. Ligases\n",
    "1. Translocases\n",
    "\n",
    "On the [BRENDA Home Page](https://www.brenda-enzymes.org/index.php), you can search for an enzyme by name and find its Enzyme Commision (EC) number, and a lot more detail as well. \n",
    "The first image below is the search for the enzyme HMG CoA Reductase, the control point for cholesterol synthesis. \n",
    "The second image shows the initial results page, which includes the EC number. \n",
    "\n",
    "![The BRENDA Home Page](images/BRENDA_Home_Page_search_for_HMG-CoA_Reductase.png)\n",
    "\n",
    "![BRENDA Search Results](images/BRENDA_HMG-CoA_Reductase_search.png)\n",
    "\n",
    "In this notebook, we will focus on trypsin, an enzyme produced by your pancreas that helps to digest proteins in your small intestine. It is a member of family called serine hydrolases. Members of this family use water to break bonds in proteins, lipids and carbohydrates. They are involved in digestion, cell signalling and blood clotting. The EC# for trypsin is 3.4.21.4. Here is the meaning of each level of the hierarchy:\n",
    "\n",
    "* 3 - Hydrolase\n",
    "* 3.4 - acting on peptide bonds\n",
    "* 3.4.21 - serine endopeptidase\n",
    "* 3.4.21.4 - trypsin\n",
    "\n",
    "This notebook is intended to help users find ligands for use with docking studies. \n",
    "We are looking for ligands that will bind to trypsin, with the intention of seeing if they will bind to other serine hydrolases that might be interesting. Here are the steps we will follow in the process, all of which will employ the `rcsbsearchapi` package. \n",
    "\n",
    "1. Find PDB structures of a given Enzyme Commission class.\n",
    "2. Select those structures that contain bound small molecules with molecular weights between 300 and 600.\n",
    "3. Output a list of those ligands\n",
    "4. Save the ligand structures to the \"ligands_for_EC_class_#\" folder.\n",
    "\n",
    "Text (actually markdown) cells will be inserted to explain each step."
   ]
  },
  {
   "cell_type": "markdown",
   "id": "d56616c4",
   "metadata": {},
   "source": [
    "### Libraries for the IQB workshop\n",
    "\n",
    "| Library         | abbreviation | Purpose |\n",
    "|:-------------|:---------:|:------------|\n",
    "| rcsbsearchapi | N/A      | functions for searching the Protein Data Bank based on the mmCIF dictionary |\n",
    "| os           | N/A      | operating system functions - handling file paths and directories. |\n",
    "| requests     | N/A  | access APIs for databases |\n",
    "| rdkit | rdkit | an open source github repository of cheminformatics software|\n",
    "| rdkit.Chem | Chem | a subset of rdkit that supports file string to structure conversions |\n",
    "| rdkit.Chem.AllChem | AllChem | a subset of rdkit.Chem that supports energy optimization |\n",
    "| rdkit.Chem.Draw | Draw | a subset of rdkit that supports chemical drawing in Python |\n",
    "| vina | vina | AutoDock Vina software for Python and Jupyter notebooks |\n",
    "\n"
   ]
  },
  {
   "cell_type": "code",
   "execution_count": 1,
   "id": "7f7f7135",
   "metadata": {},
   "outputs": [],
   "source": [
    "# Import the components of rcsbsearchapi needed for this search\n",
    "from rcsbsearchapi import rcsb_attributes as attrs"
   ]
  },
  {
   "cell_type": "markdown",
   "id": "e82f729a",
   "metadata": {},
   "source": [
    "## Making queries\n",
    "To make a query with `rcsbsearchapi` you first must know what you are looking for. I find it helpful to actually write this out by hand sometimes. Here are the characteristics I am looking for in ligands that bind to a specific Enzyme Commission Class of a protein.\n",
    "- EC Class. I will focus on the EC class for trypsin, 3.4.21.4, but any class should work.\n",
    "- Ligands. I am looking for ligands that are larger than a single atom (e.g., potassium ion) or a buffer molecule (phosphate), but of a size that consists of 10-30 heavy atoms, so I will aim for a molecular weight between 300 and 800.\n",
    "\n",
    "Please note that you can use this interface to search for dozens of attributes associated with a PDB entry. The attribute that we will use to look for proteins that have the EC# = 3.4.21.4 is `rcsb_polymer_entity.rcsb_ec_lineage.id`. Other searchable attributes include the abbreviated journal title for the primary citation, `rcsb_primary_citation.rcsb_journal_abbrev`, the method used to determine the structure `exptl.method`, or specific molecules that are part of PDB entries `pdbx_reference_molecule.class`.  "
   ]
  },
  {
   "cell_type": "code",
   "execution_count": null,
   "id": "e331ecd9",
   "metadata": {},
   "outputs": [],
   "source": [
    "# There will be three components to the query, which will be labeled q1, q2 and q3.\n",
    "\n",
    "ECnumber = \"3.4.21.4\"     # We will use this variable again later\n",
    "\n",
    "q1 = attrs.rcsb_polymer_entity.rcsb_ec_lineage.id == ECnumber    # looking for trypsin structures with EC = 3.4.21.4\n",
    "q2 = attrs.chem_comp.formula_weight >= 300                       # setting the lower limit for molecular weight\n",
    "q3 = attrs.chem_comp.formula_weight <= 800                       # setting the upper limit for molecular weight\n",
    "\n",
    "query = q1 & q2 & q3              # combining the three queries into one\n",
    "\n",
    "resultL = list(query())           # assign the results of the query to a list variable\n",
    "\n",
    "print(resultL[0:10])              # list the first 10 results\n",
    "\n",
    "print(\"There are\", len(resultL), \"trypsin structures that contain ligands in the RCSB PDB.\")"
   ]
  },
  {
   "cell_type": "markdown",
   "id": "0ed18350",
   "metadata": {},
   "source": [
    "### Finding the ligands\n",
    "\n",
    "This query provided the list of the PDB entries for trypsins (EC # 3.4.21.4) that contain ligands between 300 and 800 molecular weight.\n",
    "We printed the first 10 of these results using `print(resultL[0:10])`. \n",
    "\n",
    "Why would we choose to have ligands with molecular weights between 300 and 800? We are interested in molecules that are large enough to bind to and fill up the active site of trypsin. Small molecules with molecular weights less than 300 are likely to be individual ions (K<sup>+</sup> or Na<sup>+</sup>). Molecules with molecular weights greater than 800 will fill more than the active site of an enzyme. \n",
    "\n",
    "Here is an image of one of the ligands from the search that we're going to learn to download. It is identified in the Protein Data Bank as 13U. As a group we will look at some of the features that make this ligand interesting. \n",
    "\n",
    "<img src=\"images/13U.png\" style=\"margin-left:auto; margin-right:auto\"/>\n",
    "\n",
    "The last statement in the previous cell\n",
    "\n",
    "`print(\"There are\", len(resultL), \"trypsin structures that contain ligands in the RCSB PDB.\")`\n",
    "\n",
    "tells us how many PDB entries have ligands of that size. The default return item for the query is `structure`, which provides the four character alphanumeric entry for the full structure in the PDB. We want to identify and download the ligands that are bound to these PDB structures, so we need to switch return types. \n",
    "\n",
    "To get the ligand, instead of returning the `structure`, we will request a return type of `mol_definition` which will then return the three character alphanumeric entry for the ligand. Other possible return types are `polymer entities`, `assemblies`, and `non-polymer entities`.\n"
   ]
  },
  {
   "cell_type": "code",
   "execution_count": null,
   "id": "b4d77b9e",
   "metadata": {},
   "outputs": [],
   "source": [
    "molResultL = list(query(\"mol_definition\"))\n",
    "print(\"There are\",len(molResultL), \"ligands for EC Number\", ECnumber, \"in this list. Here is a list of the first 10 ligands.\")\n",
    "molResultL[0:10]"
   ]
  },
  {
   "cell_type": "markdown",
   "id": "574485df",
   "metadata": {},
   "source": [
    "### Where can we go to download the ligand files?\n",
    "\n",
    "To download the files for ligands bound to trypsin in the RCSB PDB, execute the two cells above for finding the trypsin ligands. This will reset the results to the ones we want.\n",
    "\n",
    "Once this is done, the next step is to determine exactly what we want to download. These ligand files in the PDB are avaiable for download in several formats. A full list and description can be found in the [Small Molecule File table](https://www.rcsb.org/docs/programmatic-access/file-download-services#small-molecule-files) on the [RCSB PDB File Download Services page](https://www.rcsb.org/docs/programmatic-access/file-download-services), which is pasted in here.\n",
    "\n",
    "![Small molecule file formats that can be downloaded from the RCSB PDB](images/SmallMoleculeFilesTable.png \"a title\")\n",
    "\n",
    "From this table, we want the ideal coordinate ligand files in mol2 format, which we will later convert to another format called `pdbqt` for docking."
   ]
  },
  {
   "cell_type": "markdown",
   "id": "2bbcbf11",
   "metadata": {},
   "source": [
    "### How do we download the ligand files?\n",
    "\n",
    "There are several options for downloading files - we will use a Python libary called `requests`. In the following cells, we will import the library, `requests`, download a single file from the RCSB PDB using the `requests.get` function, and check to make sure the file downloaded properly to the ligands folder. If that is successful, we'll use a `for` loop to download all of the files from our `molResultL` list to the ligands folder."
   ]
  },
  {
   "cell_type": "code",
   "execution_count": 14,
   "id": "ffb3d082",
   "metadata": {},
   "outputs": [],
   "source": [
    "import requests  # to enable us to pull files from the PDB\n",
    "import os        # to enable us to create a directory to store the files"
   ]
  },
  {
   "cell_type": "code",
   "execution_count": 15,
   "id": "9cbf3513",
   "metadata": {},
   "outputs": [],
   "source": [
    "# Download one of the files from our list: 11U.sdf\n",
    "\n",
    "res11U_sdf = requests.get('https://files.rcsb.org/ligands/download/11U_ideal.sdf')"
   ]
  },
  {
   "cell_type": "code",
   "execution_count": null,
   "id": "b7043e37",
   "metadata": {},
   "outputs": [],
   "source": [
    "# check to see that the file downloaded properly. A status code of 200 means everything is okay.\n",
    "\n",
    "res11U_sdf.status_code"
   ]
  },
  {
   "cell_type": "code",
   "execution_count": 19,
   "id": "096a56da",
   "metadata": {},
   "outputs": [],
   "source": [
    "# To really be sure, let's look at the file one line at a time. First we write the downloaded content to a file.\n",
    "\n",
    "# make a ligands folder for our results\n",
    "os.makedirs(\"ligands\", exist_ok=True)\n",
    "\n",
    "with open(\"ligands/res11U.sdf\", \"w+\") as file:\n",
    "    file.write(res11U_sdf.text)"
   ]
  },
  {
   "cell_type": "code",
   "execution_count": null,
   "id": "c9d9c2e4",
   "metadata": {},
   "outputs": [],
   "source": [
    "# Now we use these commands to read the file and make sure it downloaded properly. As an alternative, we\n",
    "# could go to the ligands folder in our Jupyter desktop and click on res11U.mol2 to make sure it looks correct.\n",
    "\n",
    "file1 = open('ligands/res11U.sdf', 'r')\n",
    "file_text = file1.read() # This reads in the file as a string.\n",
    "\n",
    "print(file_text)"
   ]
  },
  {
   "cell_type": "markdown",
   "id": "35352b4b",
   "metadata": {},
   "source": [
    "### Downloading all of the ligands using a for loop\n",
    "\n",
    "Now that we know that our process functions, we will use a `for` loop to download the entire list of ligands (all 112) in a single cell. Here are the steps we will take:\n",
    "\n",
    "1. Define a variable, baseUrl, for the URL where the ligand files are located. The URL only lacks the specific name of the ligand file.\n",
    "2. Set up a `for` loop to go through each of the items (as ChemID) in the molResultL list that was generated above.\n",
    "3. Assign the filename based on a variable (the 3-letter name of the ligand as ChemID followed by \\_ideal.mol2) to the variable cFile.\n",
    "4. Assign the full URL (as cFileUrl) that we want to use to download the data from the RCSB PDB API. Notice that the URL will consist of the baseUrl (defined in the first line of the cell) followed by the name of the file we just defined, which is now assigned to the variable, cFile. \n",
    "5. Tell the notebook that we want the file (CFileLocal) to be written to the ligands folder, using the os.path command.\n",
    "6. Use the API call via `requests.get` to download the data from the RCSB PDB.\n",
    "7. Write the file using the `with open` function.\n",
    "\n",
    "If all goes according to plan, this should download all of the ligands on our list to the ligands folder.\n"
   ]
  },
  {
   "cell_type": "code",
   "execution_count": 21,
   "id": "b85d927b",
   "metadata": {},
   "outputs": [],
   "source": [
    "baseUrl = \"https://files.rcsb.org/ligands/download/\"\n",
    "\n",
    "for ChemID in molResultL:\n",
    "    cFile = f\"{ChemID}_ideal.sdf\"\n",
    "    cFileUrl = baseUrl + cFile\n",
    "    cFileLocal = \"ligands/\" + cFile\n",
    "    response = requests.get(cFileUrl)\n",
    "    with open(cFileLocal, \"w+\") as file:\n",
    "        file.write(response.text)"
   ]
  },
  {
   "cell_type": "markdown",
   "id": "4cd52fb0",
   "metadata": {},
   "source": [
    "### Selected ligands\n",
    "\n",
    "For our next notebook, we are going to select and modify one of the ligands from the list. Any of them could be used, but we will be using [13U: N-cyclooctylglycyl-N-(4-carbamimidoylbenzyl)-L-prolinamide](https://www.rcsb.org/ligand/13U)."
   ]
  },
  {
   "cell_type": "markdown",
   "id": "26026341",
   "metadata": {},
   "source": [
    "<div class=\"alert alert-block alert-warning\"> \n",
    "<h3>Exercise</h3>\n",
    "\n",
    "To go a bit deeper with these tools, use the [BRENDA Enzyme Database](https://www.brenda-enzymes.org/) to find the EC# for alcohol dehydrogenase (or look for an enzyme that interests you). How many structures have ligands with molecular weights between 400 and 700? How many unique ligands are bound to these structures? \n",
    "\n",
    "Note: You can enter only the upper levels of an EC Class to identify more ligands. This exercise can be repeated with any EC#. If you have time, try a broader search where you use only 2 or 3 levels, e.g., 3.4 or 3.4.21, and see what you find.\n",
    "</div>"
   ]
  },
  {
   "cell_type": "code",
   "execution_count": null,
   "id": "8b9106d8",
   "metadata": {},
   "outputs": [],
   "source": [
    "### Solution\n",
    "\n",
    "ECnumber = \"1.1.1.1\"     # We will use this variable again later\n",
    "\n",
    "q1 = attrs.rcsb_polymer_entity.rcsb_ec_lineage.id == ECnumber  # looking for trypsins\n",
    "q2 = attrs.chem_comp.formula_weight >= 400                      # setting the lower limit for molecular weight\n",
    "q3 = attrs.chem_comp.formula_weight <= 700                     # setting the upper limit for molecular weight\n",
    "\n",
    "query = q1 & q2 & q3              # combining the three queries into one\n",
    "\n",
    "ResultL = list(query(\"entry\"))\n",
    "molResultL = list(query(\"mol_definition\"))\n",
    "print(\"There are\",len(ResultL), \"structures from EC Number\", ECnumber, \"that have bound ligands with molecular weights between 400 and 700).\")\n",
    "print(\"There are\",len(molResultL), \"unique ligands for structures with EC Number\", ECnumber, \"in this list. Here is a list of the\", len(molResultL), \"ligands.\")\n",
    "molResultL"
   ]
  },
  {
   "cell_type": "code",
   "execution_count": null,
   "id": "d94c9067",
   "metadata": {},
   "outputs": [],
   "source": []
  }
 ],
 "metadata": {
  "kernelspec": {
   "display_name": "base",
   "language": "python",
   "name": "python3"
  },
  "language_info": {
   "codemirror_mode": {
    "name": "ipython",
    "version": 3
   },
   "file_extension": ".py",
   "mimetype": "text/x-python",
   "name": "python",
   "nbconvert_exporter": "python",
   "pygments_lexer": "ipython3",
   "version": "3.11.9"
  }
 },
 "nbformat": 4,
 "nbformat_minor": 5
}
